{
 "cells": [
  {
   "cell_type": "code",
   "execution_count": 1,
   "metadata": {},
   "outputs": [
    {
     "name": "stdout",
     "output_type": "stream",
     "text": [
      "Both conditions are true.\n",
      "At least one condition is true.\n",
      "Condition is false, but NOT makes it true.\n"
     ]
    }
   ],
   "source": [
    "x = 10\n",
    "y = 20\n",
    "\n",
    "# AND example\n",
    "if x > 5 and y > 15:\n",
    "    print(\"Both conditions are true.\")\n",
    "\n",
    "# OR example\n",
    "if x > 15 or y > 15:\n",
    "    print(\"At least one condition is true.\")\n",
    "\n",
    "# NOT example\n",
    "if not x > 15:\n",
    "    print(\"Condition is false, but NOT makes it true.\")\n"
   ]
  },
  {
   "cell_type": "code",
   "execution_count": 2,
   "metadata": {},
   "outputs": [
    {
     "name": "stdout",
     "output_type": "stream",
     "text": [
      "25\n"
     ]
    }
   ],
   "source": [
    "def outer_function(a):\n",
    "    def inner_function(b):\n",
    "        return b * 2\n",
    "    return inner_function(a) + 5\n",
    "\n",
    "result = outer_function(10)\n",
    "print(result)  \n"
   ]
  },
  {
   "cell_type": "code",
   "execution_count": 2,
   "metadata": {},
   "outputs": [
    {
     "name": "stdout",
     "output_type": "stream",
     "text": [
      "[1, 4, 9, 16, 25]\n"
     ]
    }
   ],
   "source": [
    "# Regular loop\n",
    "squares = []\n",
    "for i in range(1, 6):\n",
    "    squares.append(i * i)\n",
    "\n",
    "# Shorthand loop (List comprehension)\n",
    "squares = [i * i for i in range(1, 6)]\n",
    "\n",
    "print(squares)  # Output: [1, 4, 9, 16, 25]\n"
   ]
  },
  {
   "cell_type": "code",
   "execution_count": 3,
   "metadata": {},
   "outputs": [
    {
     "name": "stdout",
     "output_type": "stream",
     "text": [
      "Two\n",
      "Something else\n"
     ]
    }
   ],
   "source": [
    "def match_case_example(value):\n",
    "    match value:\n",
    "        case 1:\n",
    "            return \"One\"\n",
    "        case 2:\n",
    "            return \"Two\"\n",
    "        case _:\n",
    "            return \"Something else\"\n",
    "\n",
    "print(match_case_example(2))  # Output: Two\n",
    "print(match_case_example(5))  # Output: Something else\n"
   ]
  }
 ],
 "metadata": {
  "kernelspec": {
   "display_name": "Python 3",
   "language": "python",
   "name": "python3"
  },
  "language_info": {
   "codemirror_mode": {
    "name": "ipython",
    "version": 3
   },
   "file_extension": ".py",
   "mimetype": "text/x-python",
   "name": "python",
   "nbconvert_exporter": "python",
   "pygments_lexer": "ipython3",
   "version": "3.12.5"
  }
 },
 "nbformat": 4,
 "nbformat_minor": 2
}
